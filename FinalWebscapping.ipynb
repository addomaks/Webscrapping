{
 "cells": [
  {
   "cell_type": "code",
   "execution_count": 94,
   "id": "3e2cac2f",
   "metadata": {},
   "outputs": [],
   "source": [
    "import pandas as pd\n",
    "from bs4 import BeautifulSoup\n",
    "import requests"
   ]
  },
  {
   "cell_type": "code",
   "execution_count": 95,
   "id": "2f8cb287",
   "metadata": {},
   "outputs": [],
   "source": [
    "r=requests.get('https://www.newegg.com/Laptops-Notebooks/SubCategory/ID-32?Tid=6740')\n",
    "c=r.content\n",
    "soup=BeautifulSoup(c, \"html.parser\")"
   ]
  },
  {
   "cell_type": "code",
   "execution_count": 112,
   "id": "edab3151",
   "metadata": {},
   "outputs": [
    {
     "data": {
      "text/plain": [
       "200"
      ]
     },
     "execution_count": 112,
     "metadata": {},
     "output_type": "execute_result"
    }
   ],
   "source": [
    "r.status_code"
   ]
  },
  {
   "cell_type": "code",
   "execution_count": 136,
   "id": "ca8c9a96",
   "metadata": {},
   "outputs": [],
   "source": [
    "result=soup.find_all(\"div\", {\"class\":\"item-cell\"})"
   ]
  },
  {
   "cell_type": "code",
   "execution_count": 137,
   "id": "26e6707c",
   "metadata": {},
   "outputs": [
    {
     "data": {
      "text/plain": [
       "37"
      ]
     },
     "execution_count": 137,
     "metadata": {},
     "output_type": "execute_result"
    }
   ],
   "source": [
    "len(result)"
   ]
  },
  {
   "cell_type": "code",
   "execution_count": 155,
   "id": "e7de366e",
   "metadata": {},
   "outputs": [
    {
     "data": {
      "text/plain": [
       "'Quick View(22)ASUS ZenBook 13 Ultra-Slim Laptop, 13.3\" OLED FHD NanoEdge Bezel Display, AMD Ryzen 7 5700U, 8GB LPDDR4X RAM, 512GB PCIe SSD, NumberPad, Wi-Fi 5, Windows 10 Home, Pine Grey, UM325UA-DS71Type: Home / PersonalResolution: 1920 x 1080Weight: 2.50 lbs.Graphics Card: AMD Radeon GraphicsModel #: UM325UA-DS71Item #: N82E16834235800Return Policy: Standard Return Policy13.3 inch OLED 400nits Full HD (1920 x 1080) Wide View 4-way NanoEdge bezel display, AMD Ryzen 7 5700U Processor (8M Cache, up to 4.3GHz, 8 cores) with AMD Radeon Graphics, Windows 10 Home, Fast storage and memory featuring 512GB PCIe NVMe M.2 SSD with 8GB LPDDR4X RAM, Built-in IR camera for facial recognition sign in with Windows Hello, ErgoLift hinge and backlit keyboard and NumberPad, Extensive connectivity with HDMI 2.0b, USB 3.2 Type-C, USB 3.2 Type-A, Wi-Fi 5 (802.11ac), Bluetooth 5.0, and Micro SD card reader (*USB Transfer speed may vary. Learn more at ASUS website), Sleek and lightweight 2.50 lbs for comfortable portability, MIL-STD 810H military standard for reliability and durability, Carry sleeve, USB-A to gigabit ethernet adapter and USB-C to audio jack adapter are included, *The Windows 11 upgrade will be delivered to qualifying devices late 2021 into 2022.\\xa0Timing varies by device. Certain features require additional hardware (see aka.ms/windows11-spec)$899.99\\xa0$849.99\\xa0–Save: 5%Free ShippingView Details Compare'"
      ]
     },
     "execution_count": 155,
     "metadata": {},
     "output_type": "execute_result"
    }
   ],
   "source": [
    "result[0].get_text().strip().replace(\"\\r\", \", \")"
   ]
  },
  {
   "cell_type": "code",
   "execution_count": 139,
   "id": "e6acfc72",
   "metadata": {},
   "outputs": [
    {
     "data": {
      "text/plain": [
       "'ASUS ZenBook 13 Ultra-Slim Laptop, 13.3\" OLED FHD NanoEdge Bezel Display, AMD Ryzen 7 5700U, 8GB LPDDR4X RAM, 512GB PCIe SSD, NumberPad, Wi-Fi 5, Windows 10 Home, Pine Grey, UM325UA-DS71'"
      ]
     },
     "execution_count": 139,
     "metadata": {},
     "output_type": "execute_result"
    }
   ],
   "source": [
    "##NAME\n",
    "result[0].find(\"a\", {\"class\":\"item-title\"}).get_text()"
   ]
  },
  {
   "cell_type": "code",
   "execution_count": 140,
   "id": "b10cd532",
   "metadata": {},
   "outputs": [
    {
     "data": {
      "text/plain": [
       "'https://www.newegg.com/pine-gray-asus-zenbook-um325ua-ds71-mainstream/p/N82E16834235800'"
      ]
     },
     "execution_count": 140,
     "metadata": {},
     "output_type": "execute_result"
    }
   ],
   "source": [
    "##LINK\n",
    "result[0].find(\"a\").get('href')"
   ]
  },
  {
   "cell_type": "code",
   "execution_count": 158,
   "id": "8a90dfd4",
   "metadata": {},
   "outputs": [
    {
     "data": {
      "text/plain": [
       "'Type: Home / PersonalResolution: 1920 x 1080Weight: 2.50 lbs.Graphics Card: AMD Radeon GraphicsModel #: UM325UA-DS71Item #: N82E16834235800Return Policy: Standard Return Policy'"
      ]
     },
     "execution_count": 158,
     "metadata": {},
     "output_type": "execute_result"
    }
   ],
   "source": [
    "##FEATURES\n",
    "result[0].find(\"ul\", {\"class\":\"item-features\"}).get_text()"
   ]
  },
  {
   "cell_type": "code",
   "execution_count": 142,
   "id": "5a5ef30f",
   "metadata": {},
   "outputs": [
    {
     "data": {
      "text/plain": [
       "'$849.99\\xa0–'"
      ]
     },
     "execution_count": 142,
     "metadata": {},
     "output_type": "execute_result"
    }
   ],
   "source": [
    "##PRICE AFTER DISCOUNT\n",
    "result[0].find(\"li\", {\"class\":\"price-current\"}).get_text()"
   ]
  },
  {
   "cell_type": "code",
   "execution_count": 143,
   "id": "f8dd2987",
   "metadata": {},
   "outputs": [
    {
     "data": {
      "text/plain": [
       "'$899.99'"
      ]
     },
     "execution_count": 143,
     "metadata": {},
     "output_type": "execute_result"
    }
   ],
   "source": [
    "## PRICE BEFORE DISCOUNT\n",
    "result[0].find(\"li\", {\"class\":\"price-was\"}).get_text()"
   ]
  },
  {
   "cell_type": "code",
   "execution_count": 144,
   "id": "31219506",
   "metadata": {},
   "outputs": [
    {
     "data": {
      "text/plain": [
       "'5%'"
      ]
     },
     "execution_count": 144,
     "metadata": {},
     "output_type": "execute_result"
    }
   ],
   "source": [
    "##DISCOUNT PERCENT\n",
    "result[0].find(\"span\",{\"class\":\"price-save-percent\"}).get_text()"
   ]
  },
  {
   "cell_type": "code",
   "execution_count": 145,
   "id": "ee117fbe",
   "metadata": {},
   "outputs": [
    {
     "data": {
      "text/plain": [
       "'UM325UA-DS71'"
      ]
     },
     "execution_count": 145,
     "metadata": {},
     "output_type": "execute_result"
    }
   ],
   "source": [
    "## MODEL NAME\n",
    "result[0].find(\"strong\", text= \"Model #: \").next_sibling"
   ]
  },
  {
   "cell_type": "code",
   "execution_count": 146,
   "id": "9474083e",
   "metadata": {},
   "outputs": [
    {
     "data": {
      "text/plain": [
       "'rated 4 out of 5'"
      ]
     },
     "execution_count": 146,
     "metadata": {},
     "output_type": "execute_result"
    }
   ],
   "source": [
    "##RATING\n",
    "result[0].find(\"i\", {\"class\":\"rating\"}).get(\"aria-label\")"
   ]
  },
  {
   "cell_type": "code",
   "execution_count": 147,
   "id": "5433dd25",
   "metadata": {},
   "outputs": [
    {
     "data": {
      "text/plain": [
       "'(22)'"
      ]
     },
     "execution_count": 147,
     "metadata": {},
     "output_type": "execute_result"
    }
   ],
   "source": [
    "##REVIEWS\n",
    "result[0].find(\"span\", {\"class\":\"item-rating-num\"}).get_text()"
   ]
  },
  {
   "cell_type": "code",
   "execution_count": 177,
   "id": "bc1ff484",
   "metadata": {},
   "outputs": [],
   "source": [
    "product_name=[]\n",
    "product_link=[]\n",
    "product_feature=[]\n",
    "product_model=[]\n",
    "product_PBD=[]\n",
    "product_PAD=[]\n",
    "product_discount=[]\n",
    "product_review=[]\n",
    "product_rating=[]\n",
    "\n",
    "\n",
    "\n",
    "for results in result:\n",
    "    try:\n",
    "        product_name.append(results.find(\"a\", {\"class\":\"item-title\"}).get_text())\n",
    "    except:\n",
    "        product_name.append('N/A')\n",
    "\n",
    "        \n",
    "        \n",
    "    try:\n",
    "        product_link.append(results.find(\"a\").get('href'))\n",
    "    except:\n",
    "        product_link.append(\"N/A\")\n",
    "        \n",
    "\n",
    "\n",
    "    try:\n",
    "        product_feature.append(results.find(\"ul\", {\"class\":\"item-features\"}).get_text())\n",
    "    except:\n",
    "        product_feature.append('N/A')\n",
    "\n",
    "        \n",
    "\n",
    "    try:\n",
    "        product_model.append(results.find(\"strong\", text= \"Model #: \").next_sibling)\n",
    "    except:\n",
    "        product_model.append(\"N/A\")\n",
    "\n",
    "        \n",
    "        \n",
    "    try:\n",
    "        product_PBD.append(results.find(\"li\", {\"class\":\"price-was\"}).get_text())\n",
    "    except:\n",
    "        product_PBD.append('N/A')\n",
    "\n",
    "        \n",
    "        \n",
    "    try:\n",
    "        product_PAD.append(results.find(\"li\", {\"class\":\"price-current\"}).get_text())\n",
    "    except:\n",
    "        product_PAD.append('N/A')\n",
    "\n",
    "        \n",
    "\n",
    "    try:\n",
    "        product_discount.append(results.find(\"span\",{\"class\":\"price-save-percent\"}).get_text())\n",
    "    except:\n",
    "        product_discount.append('N/A')\n",
    "        \n",
    "        \n",
    "        \n",
    "    try:\n",
    "        product_review.append(results.find(\"span\", {\"class\":\"item-rating-num\"}).get_text())\n",
    "    except:\n",
    "        product_review.append('N/A')\n",
    "        \n",
    "        \n",
    "        \n",
    "    try:\n",
    "        product_rating.append(results.find(\"i\", {\"class\":\"rating\"}).get(\"aria-label\"))\n",
    "    except:\n",
    "        product_rating.append('N/A')"
   ]
  },
  {
   "cell_type": "code",
   "execution_count": 183,
   "id": "bae2513e",
   "metadata": {},
   "outputs": [],
   "source": [
    "product_overiew=pd.DataFrame({'Brand': product_name, 'Model': product_model, 'Features': product_feature, 'Price': product_PBD, \n",
    "                             'Special Price': product_PAD, 'Discount': product_discount, 'Rating': product_rating,\n",
    "                             'Reviews': product_review, 'URL': product_link})"
   ]
  },
  {
   "cell_type": "code",
   "execution_count": 188,
   "id": "b56be5b4",
   "metadata": {},
   "outputs": [],
   "source": [
    "product_overiew.to_excel('result_test1.xlsx', index=False)"
   ]
  },
  {
   "cell_type": "code",
   "execution_count": 218,
   "id": "9073f873",
   "metadata": {},
   "outputs": [],
   "source": [
    "product_name=[]\n",
    "product_link=[]\n",
    "product_feature=[]\n",
    "product_model=[]\n",
    "product_PBD=[]\n",
    "product_PAD=[]\n",
    "product_discount=[]\n",
    "product_review=[]\n",
    "product_rating=[]\n",
    "\n",
    "for i in range(1,101):\n",
    "    website = 'https://www.newegg.com/Laptops-Notebooks/SubCategory/ID-32/Page-'+str(i)\n",
    "    r=requests.get(website)\n",
    "    c=r.content\n",
    "    soup=BeautifulSoup(c,('html.parser'))\n",
    "    result=soup.find_all(\"div\", {\"class\":\"item-cell\"})\n",
    "    \n",
    "    \n",
    "    for results in result:\n",
    "        try:\n",
    "            product_name.append(results.find(\"a\", {\"class\":\"item-title\"}).get_text())\n",
    "        except:\n",
    "            product_name.append('N/A')\n",
    "\n",
    "\n",
    "\n",
    "        try:\n",
    "            product_link.append(results.find(\"a\").get('href'))\n",
    "        except:\n",
    "            product_link.append(\"N/A\")\n",
    "\n",
    "\n",
    "\n",
    "        try:\n",
    "            product_feature.append(results.find(\"ul\", {\"class\":\"item-features\"}).get_text())\n",
    "        except:\n",
    "            product_feature.append('N/A')\n",
    "\n",
    "\n",
    "\n",
    "        try:\n",
    "            product_model.append(results.find(\"strong\", text= \"Model #: \").next_sibling)\n",
    "        except:\n",
    "            product_model.append(\"N/A\")\n",
    "\n",
    "\n",
    "\n",
    "        try:\n",
    "            product_PBD.append(results.find(\"li\", {\"class\":\"price-was\"}).get_text())\n",
    "        except:\n",
    "            product_PBD.append('N/A')\n",
    "\n",
    "\n",
    "\n",
    "        try:\n",
    "            product_PAD.append(results.find(\"li\", {\"class\":\"price-current\"}).get_text())\n",
    "        except:\n",
    "            product_PAD.append('N/A')\n",
    "\n",
    "\n",
    "\n",
    "        try:\n",
    "            product_discount.append(results.find(\"span\",{\"class\":\"price-save-percent\"}).get_text())\n",
    "        except:\n",
    "            product_discount.append('N/A')\n",
    "\n",
    "\n",
    "\n",
    "        try:\n",
    "            product_review.append(results.find(\"span\", {\"class\":\"item-rating-num\"}).get_text())\n",
    "        except:\n",
    "            product_review.append('N/A')\n",
    "\n",
    "\n",
    "\n",
    "        try:\n",
    "            product_rating.append(results.find(\"i\", {\"class\":\"rating\"}).get(\"aria-label\"))\n",
    "        except:\n",
    "            product_rating.append('N/A')\n",
    "\n",
    "            \n",
    "            \n",
    "product_overiew1=pd.DataFrame({'Brand': product_name, 'Model': product_model, 'Features': product_feature, 'Price': product_PBD, \n",
    "                             'Special Price': product_PAD, 'Discount': product_discount, 'Rating': product_rating,\n",
    "                             'Reviews': product_review, 'URL': product_link})"
   ]
  },
  {
   "cell_type": "code",
   "execution_count": 219,
   "id": "601f990c",
   "metadata": {},
   "outputs": [
    {
     "data": {
      "text/html": [
       "<div>\n",
       "<style scoped>\n",
       "    .dataframe tbody tr th:only-of-type {\n",
       "        vertical-align: middle;\n",
       "    }\n",
       "\n",
       "    .dataframe tbody tr th {\n",
       "        vertical-align: top;\n",
       "    }\n",
       "\n",
       "    .dataframe thead th {\n",
       "        text-align: right;\n",
       "    }\n",
       "</style>\n",
       "<table border=\"1\" class=\"dataframe\">\n",
       "  <thead>\n",
       "    <tr style=\"text-align: right;\">\n",
       "      <th></th>\n",
       "      <th>Brand</th>\n",
       "      <th>Model</th>\n",
       "      <th>Features</th>\n",
       "      <th>Price</th>\n",
       "      <th>Special Price</th>\n",
       "      <th>Discount</th>\n",
       "      <th>Rating</th>\n",
       "      <th>Reviews</th>\n",
       "      <th>URL</th>\n",
       "    </tr>\n",
       "  </thead>\n",
       "  <tbody>\n",
       "    <tr>\n",
       "      <th>0</th>\n",
       "      <td>ASUS ZenBook 13 Ultra-Slim Laptop, 13.3\" OLED ...</td>\n",
       "      <td>UM325UA-DS71</td>\n",
       "      <td>Type: Home / PersonalResolution: 1920 x 1080We...</td>\n",
       "      <td>$899.99</td>\n",
       "      <td>$849.99 –</td>\n",
       "      <td>5%</td>\n",
       "      <td>rated 4 out of 5</td>\n",
       "      <td>(22)</td>\n",
       "      <td>https://www.newegg.com/pine-gray-asus-zenbook-...</td>\n",
       "    </tr>\n",
       "    <tr>\n",
       "      <th>1</th>\n",
       "      <td>Acer Intel EVO Laptop Swift 5 SF514-55TA-77WW ...</td>\n",
       "      <td>NX.A6SAA.006</td>\n",
       "      <td>Type: Home / PersonalResolution: 1920 x 1080We...</td>\n",
       "      <td></td>\n",
       "      <td>$999.99 –</td>\n",
       "      <td>N/A</td>\n",
       "      <td>N/A</td>\n",
       "      <td>N/A</td>\n",
       "      <td>https://www.newegg.com/acer-sf514-55ta-77ww/p/...</td>\n",
       "    </tr>\n",
       "    <tr>\n",
       "      <th>2</th>\n",
       "      <td>Acer Laptop Aspire 5 Thin and Light Laptop A51...</td>\n",
       "      <td>NX.A82AA.002</td>\n",
       "      <td>Type: Home / PersonalResolution: 1920 x 1080We...</td>\n",
       "      <td>$649.99</td>\n",
       "      <td>$629.99 (3 Offers)–</td>\n",
       "      <td>N/A</td>\n",
       "      <td>rated 4 out of 5</td>\n",
       "      <td>(76)</td>\n",
       "      <td>https://www.newegg.com/pure-silver-acer-aspire...</td>\n",
       "    </tr>\n",
       "    <tr>\n",
       "      <th>3</th>\n",
       "      <td>ASUS VivoBook 15 OLED K513 Laptop, 15.6 OLED D...</td>\n",
       "      <td>K513EQ-NB74</td>\n",
       "      <td>Type: Home / Personal / Work / BusinessResolut...</td>\n",
       "      <td>$919.99</td>\n",
       "      <td>$899.99 –</td>\n",
       "      <td>N/A</td>\n",
       "      <td>rated 5 out of 5</td>\n",
       "      <td>(22)</td>\n",
       "      <td>https://www.newegg.com/indie-black-asus-vivobo...</td>\n",
       "    </tr>\n",
       "    <tr>\n",
       "      <th>4</th>\n",
       "      <td>[Windows 11 Pro] Newest HP Pavilion 15 Laptop ...</td>\n",
       "      <td>Pavilion6107_CTO_N005</td>\n",
       "      <td>Type: Work / BusinessResolution: 1920 x 1080Di...</td>\n",
       "      <td></td>\n",
       "      <td>$1,139.00 –</td>\n",
       "      <td>N/A</td>\n",
       "      <td>rated 5 out of 5</td>\n",
       "      <td>(3)</td>\n",
       "      <td>https://www.newegg.com/p/1TS-000D-0RJZ4</td>\n",
       "    </tr>\n",
       "    <tr>\n",
       "      <th>...</th>\n",
       "      <td>...</td>\n",
       "      <td>...</td>\n",
       "      <td>...</td>\n",
       "      <td>...</td>\n",
       "      <td>...</td>\n",
       "      <td>...</td>\n",
       "      <td>...</td>\n",
       "      <td>...</td>\n",
       "      <td>...</td>\n",
       "    </tr>\n",
       "    <tr>\n",
       "      <th>1993</th>\n",
       "      <td>ASUS ZenBook Duo 14 School &amp; Business Laptop (...</td>\n",
       "      <td>ME-121311230661</td>\n",
       "      <td>Type: Work / BusinessResolution: 1920 x 1080Me...</td>\n",
       "      <td></td>\n",
       "      <td>$1,879.00 –</td>\n",
       "      <td>N/A</td>\n",
       "      <td>N/A</td>\n",
       "      <td>N/A</td>\n",
       "      <td>https://www.newegg.com/p/1TS-001A-05534</td>\n",
       "    </tr>\n",
       "    <tr>\n",
       "      <th>1994</th>\n",
       "      <td>Lenovo Thinkbook 14s Premium Business Ultraboo...</td>\n",
       "      <td>889800655715</td>\n",
       "      <td>Resolution: 1920 x 1080Weight: 2 - 2.9 lbs.Blu...</td>\n",
       "      <td></td>\n",
       "      <td>$1,399.99 –</td>\n",
       "      <td>N/A</td>\n",
       "      <td>N/A</td>\n",
       "      <td>N/A</td>\n",
       "      <td>https://www.newegg.com/p/1TS-000E-0HT51</td>\n",
       "    </tr>\n",
       "    <tr>\n",
       "      <th>1995</th>\n",
       "      <td>Acer Predator Helios 300 Gaming Laptop, Intel ...</td>\n",
       "      <td>PH315-53-71HN-0</td>\n",
       "      <td>Model #: PH315-53-71HN-0Item #: 9SIAKVHFG75321...</td>\n",
       "      <td></td>\n",
       "      <td>$2,231.00 –</td>\n",
       "      <td>N/A</td>\n",
       "      <td>N/A</td>\n",
       "      <td>N/A</td>\n",
       "      <td>https://www.newegg.com/p/1TS-000X-02N97</td>\n",
       "    </tr>\n",
       "    <tr>\n",
       "      <th>1996</th>\n",
       "      <td>Dell Latitude 7420 14\" FHD Intel Core i5-1145G...</td>\n",
       "      <td>47DWJ</td>\n",
       "      <td>Type: MainstreamResolution: 1920 x 1080Weight:...</td>\n",
       "      <td></td>\n",
       "      <td>$1,616.49 (11 Offers)–</td>\n",
       "      <td>N/A</td>\n",
       "      <td>N/A</td>\n",
       "      <td>N/A</td>\n",
       "      <td>https://www.newegg.com/carbon-fiber-dell-latit...</td>\n",
       "    </tr>\n",
       "    <tr>\n",
       "      <th>1997</th>\n",
       "      <td>Lenovo IdeaPad 3 Laptop, 17.3\" HD+ Display, AM...</td>\n",
       "      <td>IdPad3Ry55U-20512nP</td>\n",
       "      <td>Type: MainstreamResolution: 1600 x 900Weight: ...</td>\n",
       "      <td></td>\n",
       "      <td>$749.99 –</td>\n",
       "      <td>N/A</td>\n",
       "      <td>N/A</td>\n",
       "      <td>N/A</td>\n",
       "      <td>https://www.newegg.com/blue-lenovo-ideapad-3-m...</td>\n",
       "    </tr>\n",
       "  </tbody>\n",
       "</table>\n",
       "<p>1998 rows × 9 columns</p>\n",
       "</div>"
      ],
      "text/plain": [
       "                                                  Brand  \\\n",
       "0     ASUS ZenBook 13 Ultra-Slim Laptop, 13.3\" OLED ...   \n",
       "1     Acer Intel EVO Laptop Swift 5 SF514-55TA-77WW ...   \n",
       "2     Acer Laptop Aspire 5 Thin and Light Laptop A51...   \n",
       "3     ASUS VivoBook 15 OLED K513 Laptop, 15.6 OLED D...   \n",
       "4     [Windows 11 Pro] Newest HP Pavilion 15 Laptop ...   \n",
       "...                                                 ...   \n",
       "1993  ASUS ZenBook Duo 14 School & Business Laptop (...   \n",
       "1994  Lenovo Thinkbook 14s Premium Business Ultraboo...   \n",
       "1995  Acer Predator Helios 300 Gaming Laptop, Intel ...   \n",
       "1996  Dell Latitude 7420 14\" FHD Intel Core i5-1145G...   \n",
       "1997  Lenovo IdeaPad 3 Laptop, 17.3\" HD+ Display, AM...   \n",
       "\n",
       "                      Model  \\\n",
       "0              UM325UA-DS71   \n",
       "1              NX.A6SAA.006   \n",
       "2              NX.A82AA.002   \n",
       "3               K513EQ-NB74   \n",
       "4     Pavilion6107_CTO_N005   \n",
       "...                     ...   \n",
       "1993        ME-121311230661   \n",
       "1994           889800655715   \n",
       "1995        PH315-53-71HN-0   \n",
       "1996                  47DWJ   \n",
       "1997    IdPad3Ry55U-20512nP   \n",
       "\n",
       "                                               Features    Price  \\\n",
       "0     Type: Home / PersonalResolution: 1920 x 1080We...  $899.99   \n",
       "1     Type: Home / PersonalResolution: 1920 x 1080We...            \n",
       "2     Type: Home / PersonalResolution: 1920 x 1080We...  $649.99   \n",
       "3     Type: Home / Personal / Work / BusinessResolut...  $919.99   \n",
       "4     Type: Work / BusinessResolution: 1920 x 1080Di...            \n",
       "...                                                 ...      ...   \n",
       "1993  Type: Work / BusinessResolution: 1920 x 1080Me...            \n",
       "1994  Resolution: 1920 x 1080Weight: 2 - 2.9 lbs.Blu...            \n",
       "1995  Model #: PH315-53-71HN-0Item #: 9SIAKVHFG75321...            \n",
       "1996  Type: MainstreamResolution: 1920 x 1080Weight:...            \n",
       "1997  Type: MainstreamResolution: 1600 x 900Weight: ...            \n",
       "\n",
       "               Special Price Discount            Rating Reviews  \\\n",
       "0                  $849.99 –       5%  rated 4 out of 5    (22)   \n",
       "1                  $999.99 –      N/A               N/A     N/A   \n",
       "2        $629.99 (3 Offers)–      N/A  rated 4 out of 5    (76)   \n",
       "3                  $899.99 –      N/A  rated 5 out of 5    (22)   \n",
       "4                $1,139.00 –      N/A  rated 5 out of 5     (3)   \n",
       "...                      ...      ...               ...     ...   \n",
       "1993             $1,879.00 –      N/A               N/A     N/A   \n",
       "1994             $1,399.99 –      N/A               N/A     N/A   \n",
       "1995             $2,231.00 –      N/A               N/A     N/A   \n",
       "1996  $1,616.49 (11 Offers)–      N/A               N/A     N/A   \n",
       "1997               $749.99 –      N/A               N/A     N/A   \n",
       "\n",
       "                                                    URL  \n",
       "0     https://www.newegg.com/pine-gray-asus-zenbook-...  \n",
       "1     https://www.newegg.com/acer-sf514-55ta-77ww/p/...  \n",
       "2     https://www.newegg.com/pure-silver-acer-aspire...  \n",
       "3     https://www.newegg.com/indie-black-asus-vivobo...  \n",
       "4               https://www.newegg.com/p/1TS-000D-0RJZ4  \n",
       "...                                                 ...  \n",
       "1993            https://www.newegg.com/p/1TS-001A-05534  \n",
       "1994            https://www.newegg.com/p/1TS-000E-0HT51  \n",
       "1995            https://www.newegg.com/p/1TS-000X-02N97  \n",
       "1996  https://www.newegg.com/carbon-fiber-dell-latit...  \n",
       "1997  https://www.newegg.com/blue-lenovo-ideapad-3-m...  \n",
       "\n",
       "[1998 rows x 9 columns]"
      ]
     },
     "execution_count": 219,
     "metadata": {},
     "output_type": "execute_result"
    }
   ],
   "source": [
    "product_overiew1"
   ]
  },
  {
   "cell_type": "code",
   "execution_count": 220,
   "id": "29af2a94",
   "metadata": {},
   "outputs": [],
   "source": [
    "product_overiew1.to_excel('Final_merger.xlsx', index=False)"
   ]
  },
  {
   "cell_type": "code",
   "execution_count": null,
   "id": "b4f508ab",
   "metadata": {},
   "outputs": [],
   "source": []
  }
 ],
 "metadata": {
  "kernelspec": {
   "display_name": "Python 3",
   "language": "python",
   "name": "python3"
  },
  "language_info": {
   "codemirror_mode": {
    "name": "ipython",
    "version": 3
   },
   "file_extension": ".py",
   "mimetype": "text/x-python",
   "name": "python",
   "nbconvert_exporter": "python",
   "pygments_lexer": "ipython3",
   "version": "3.8.1"
  }
 },
 "nbformat": 4,
 "nbformat_minor": 5
}
