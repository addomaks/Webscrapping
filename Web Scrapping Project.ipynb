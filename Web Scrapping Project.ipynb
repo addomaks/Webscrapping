{
 "cells": [
  {
   "cell_type": "code",
   "execution_count": 1,
   "id": "01f1e20a",
   "metadata": {},
   "outputs": [],
   "source": [
    "import requests\n",
    "from bs4 import BeautifulSoup\n",
    "\n",
    "r=requests.get(\"https://www.99acres.com/search/property/buy/sector-c-vasant-kunj-delhi-south?city=3&locality=10232&preference=S&area_unit=1&res_com=R\")\n",
    "c=r.content\n",
    "\n",
    "soup=BeautifulSoup(c,\"html.parser\")"
   ]
  },
  {
   "cell_type": "code",
   "execution_count": 8,
   "id": "0cf64a09",
   "metadata": {},
   "outputs": [],
   "source": [
    "all=soup.find_all(\"div\", {\"class\": \"srpTuple__cardWrap\"})"
   ]
  },
  {
   "cell_type": "code",
   "execution_count": 91,
   "id": "8ad0c402",
   "metadata": {},
   "outputs": [
    {
     "name": "stdout",
     "output_type": "stream",
     "text": [
      "A 2 bedroom flat, located in sector-C vasant kunj, delhi south, is available. It is an semi-Furnished flat located in . Situated in a prominent locality. The flat is on 3rd floor of the building. Aesthetically designed, this property has 2 bathroom(s). The property also has 3balcony(s). The flat has a good view of the locality. The flat is a freehold property and has a built up area of 1200 sq....\n",
      "\n",
      "The locality is very close to indira gandhi international airport and the commercial hub of gurgaon. Healthcare facilities, schools, shopping complex, malls, sports complex, all these important facilities are a part of the neighborhood and are at walking distance from the property. The property is on the second floor and comes with the roof rights and it has a dedicated parking in the drive way...\n",
      "\n",
      "4 bhk flat for sell in vasant kunj sector c pocket 2 vasant kunj its first floor corner three side open park facing fully extended beautiful location the amenities like school shopping mall gim are in the walking distance from this block the international airport from this place 5 km sarunding pls call for more information\n",
      "\n",
      "Property is posh , gated society, 24x7 security gaurd, green and plush area.\n",
      "\n",
      "Super luxurious fully furnished property , built up in new construction sector of vasant kunj sector c pocket 1 , property have attached big courtyard and green area. Ground floor property with all advanced amenities , the property have clear title with all legal registered documents , site visit can be arranged after discussion. Locality is very serene with advanced features like mall , daily ...more\n",
      "\n",
      "4 bhk newly built up builder floor available in bookings in promising locality of sector-C vasant kunj, delhi south. It is a ready to move in spacious flat and is located on the 1st floor. Every single detail of the flat is carefully designed. The apartment is priced at rs. 5 cr (Rs. 21739 per sq. Ft. ). It is a freehold property, with a super built-Up area of 2300. 0 sq. Ft. It has 4 bathroom(...\n",
      "\n",
      "A beautiful 5 bhk apartment in sector-C vasant kunj, delhi south.Originally its a 2bhk converted into 5 bhk . The property is in a iapromising locality. This well-Designed new property is ready to move in. It is located on 3rd floor. The property ownership is freehold type and has a carpet area of 2500 sq.Ft. Price on request. The price is negotiable. The apartment is 5-10 year old . With 2 bal...\n",
      "\n",
      "The property is a 4bhk 4 bath 1st floor available for sale and is located in the prime sector c 8 vasant kunj. Ideally located, near park and located on a peaceful road. No water or electricity problem with lots of sunshine,fresh air and greenery. Reasonable rent. Lots of scope of extension. Located in the vicinity of dlf emporio,dlf promenade and ambience malls. Near to metro station, schools ...\n",
      "\n",
      "A 3 bhk flat is available for sale in delhi south sector-C vasant kunj. This property is a part of vasant kunj sector c, pocket 1. The built-Up area is 1800 sq.Ft. This is a a semi-Furnished with 2geyser5fan1exhaust fan1modular kitchen22light3wardrobe. It has more than two bathrooms.The apartment has 2 balconies. It has a study room. Located on the 1st floor of 3 floors. The expected price of t...\n",
      "\n",
      "This 3 bhk flat in sector-C vasant kunj, delhi south is available for sale. It is part of . It has 2 bathrooms. The furnishings include 5fan3wardrobe15light. The 2 balconies keep the apartment well ventilated. The apartment is spacious with a built up area of 1600 sq.Ft. Located on the 1st floor of 3 floors, the expected price of this apartment is rs 3.65 crore (). The freehold property offers ...\n",
      "\n",
      "It is a part of . The apartment is well ventilated with 3 balconies and has 4 bathrooms. This is a semi-Furnished property. The furnishings include 4fan9light1exhaust fan2wardrobe2geyser1modular kitchen. It's a 2bhk converted into 5bhk The area of the apartment is as follows: * built-Up: 2500 sq.Ft. * carpet: 2300 sq.Ft. The expected price of the property that is on the 4th floor of 4 floors is...\n",
      "\n",
      "C9 ground floor 2 bhk, sectorc vasant kunj, delhi south.\n",
      "Has an extra small room which can be used as a 3rd bedroom\n",
      "Adjacent to a huge park\n",
      "Adjacent to a library\n",
      "Lots of parking\n",
      "Surrounded by greenery\n",
      "Near to dlf emporio, dlf promenade, nirula's, dominos etc & ambience mall\n",
      "\n",
      "Spacious rooms, well maintained property, airy room and details of property are signature quality. Top most location of vasant kunj.\n",
      "\n",
      "The property is a 4bhk 4 bath 1st floor available for sale and is located in the prime sector c 8 vasant kunj. Ideally located, near park and located on a peaceful road. No water or electricity problem with lots of sunshine,fresh air and greenery. Reasonable rent. Lots of scope of extension. Located in the vicinity of dlf emporio,dlf promenade and ambience malls. Near to metro station, schools ...\n",
      "\n",
      "Brand new builder floor available on sell in sector-C vasant kunj, delhi south. Contact us for more details and more options. This property details signature quality and constructed by one of the eminent builder of south delhi.\n",
      "\n"
     ]
    }
   ],
   "source": [
    "for description in all:\n",
    "    print(description.find(\"div\",{\"class\":\"body_med\"}).text)\n",
    "    print(\"\")"
   ]
  },
  {
   "cell_type": "code",
   "execution_count": 1,
   "id": "55738208",
   "metadata": {},
   "outputs": [
    {
     "ename": "TypeError",
     "evalue": "'builtin_function_or_method' object is not iterable",
     "output_type": "error",
     "traceback": [
      "\u001b[1;31m---------------------------------------------------------------------------\u001b[0m",
      "\u001b[1;31mTypeError\u001b[0m                                 Traceback (most recent call last)",
      "\u001b[1;32m<ipython-input-1-58a941250154>\u001b[0m in \u001b[0;36m<module>\u001b[1;34m\u001b[0m\n\u001b[1;32m----> 1\u001b[1;33m \u001b[1;32mfor\u001b[0m \u001b[0mprice\u001b[0m \u001b[1;32min\u001b[0m \u001b[0mall\u001b[0m\u001b[1;33m:\u001b[0m\u001b[1;33m\u001b[0m\u001b[1;33m\u001b[0m\u001b[0m\n\u001b[0m\u001b[0;32m      2\u001b[0m     \u001b[1;32mtry\u001b[0m\u001b[1;33m:\u001b[0m\u001b[1;33m\u001b[0m\u001b[1;33m\u001b[0m\u001b[0m\n\u001b[0;32m      3\u001b[0m         \u001b[0mprint\u001b[0m\u001b[1;33m(\u001b[0m\u001b[0mprice\u001b[0m\u001b[1;33m.\u001b[0m\u001b[0mfind_all\u001b[0m\u001b[1;33m(\u001b[0m\u001b[1;34m\"td\"\u001b[0m\u001b[1;33m,\u001b[0m\u001b[1;33m{\u001b[0m\u001b[1;34m\"class\"\u001b[0m\u001b[1;33m:\u001b[0m\u001b[1;34m\"srpTuple__midGrid\"\u001b[0m\u001b[1;33m}\u001b[0m\u001b[1;33m)\u001b[0m\u001b[1;33m.\u001b[0m\u001b[0mget\u001b[0m\u001b[1;33m(\u001b[0m\u001b[1;34m''\u001b[0m\u001b[1;33m)\u001b[0m\u001b[1;33m)\u001b[0m\u001b[1;33m\u001b[0m\u001b[1;33m\u001b[0m\u001b[0m\n\u001b[0;32m      4\u001b[0m     \u001b[1;32mexcept\u001b[0m\u001b[1;33m:\u001b[0m\u001b[1;33m\u001b[0m\u001b[1;33m\u001b[0m\u001b[0m\n\u001b[0;32m      5\u001b[0m         \u001b[1;32mpass\u001b[0m\u001b[1;33m\u001b[0m\u001b[1;33m\u001b[0m\u001b[0m\n",
      "\u001b[1;31mTypeError\u001b[0m: 'builtin_function_or_method' object is not iterable"
     ]
    }
   ],
   "source": [
    "for price in all:\n",
    "    try:\n",
    "        print(price.find_all(\"td\",{\"class\":\"srpTuple__midGrid\"}).get(''))\n",
    "    except:\n",
    "        pass"
   ]
  }
 ],
 "metadata": {
  "kernelspec": {
   "display_name": "Python 3",
   "language": "python",
   "name": "python3"
  },
  "language_info": {
   "codemirror_mode": {
    "name": "ipython",
    "version": 3
   },
   "file_extension": ".py",
   "mimetype": "text/x-python",
   "name": "python",
   "nbconvert_exporter": "python",
   "pygments_lexer": "ipython3",
   "version": "3.8.1"
  }
 },
 "nbformat": 4,
 "nbformat_minor": 5
}
